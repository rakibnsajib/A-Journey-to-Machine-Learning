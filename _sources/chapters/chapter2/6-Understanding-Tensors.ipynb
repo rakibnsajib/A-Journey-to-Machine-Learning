{
 "cells": [
  {
   "cell_type": "markdown",
   "metadata": {},
   "source": [
    "## Chapter 6: Understanding Tensors\n",
    "\n",
    "### 6.1 Introduction to Tensors\n",
    "   - **Definition**: Tensors are multidimensional arrays that generalize scalars (0D), vectors (1D), and matrices (2D) to higher dimensions. They serve as the fundamental building blocks in machine learning, particularly for deep learning frameworks.\n",
    "   - **Role in Machine Learning**:\n",
    "     - Tensors represent data inputs (e.g., images, text).\n",
    "     - They enable efficient computation using GPU acceleration.\n",
    "     - Commonly used in libraries like TensorFlow and PyTorch.\n",
    "\n",
    "### 6.2 Tensor Dimensions\n",
    "   - **0D Tensor**: Scalar (e.g., `5`)\n",
    "   - **1D Tensor**: Vector (e.g., `[1, 2, 3]`)\n",
    "   - **2D Tensor**: Matrix (e.g., `[[1, 2], [3, 4]]`)\n",
    "   - **3D+ Tensor**: Higher-dimensional arrays (e.g., batches of images).\n",
    "\n",
    "### 6.3 Practical Code Example: Tensor Operations\n"
   ]
  },
  {
   "cell_type": "code",
   "execution_count": 1,
   "metadata": {},
   "outputs": [
    {
     "name": "stdout",
     "output_type": "stream",
     "text": [
      "NumPy Tensor:\n",
      " [[1 2 3]\n",
      " [4 5 6]]\n",
      "Addition:\n",
      " [[3 4 5]\n",
      " [6 7 8]]\n",
      "Multiplication:\n",
      " [[ 2  4  6]\n",
      " [ 8 10 12]]\n",
      "Reshaped NumPy Tensor:\n",
      " [[1 2]\n",
      " [3 4]\n",
      " [5 6]]\n",
      "\n",
      "TensorFlow Tensor:\n",
      " tf.Tensor(\n",
      "[[1. 2. 3.]\n",
      " [4. 5. 6.]], shape=(2, 3), dtype=float32)\n",
      "TensorFlow Addition:\n",
      " tf.Tensor(\n",
      "[[3. 4. 5.]\n",
      " [6. 7. 8.]], shape=(2, 3), dtype=float32)\n",
      "TensorFlow Multiplication:\n",
      " tf.Tensor(\n",
      "[[ 2.  4.  6.]\n",
      " [ 8. 10. 12.]], shape=(2, 3), dtype=float32)\n",
      "Reshaped TensorFlow Tensor:\n",
      " tf.Tensor(\n",
      "[[1. 2.]\n",
      " [3. 4.]\n",
      " [5. 6.]], shape=(3, 2), dtype=float32)\n"
     ]
    }
   ],
   "source": [
    "import numpy as np\n",
    "import tensorflow as tf\n",
    "\n",
    "### Using NumPy for Tensor Operations\n",
    "# Create a 2D tensor (matrix)\n",
    "np_tensor = np.array([[1, 2, 3], [4, 5, 6]])\n",
    "print(\"NumPy Tensor:\\n\", np_tensor)\n",
    "\n",
    "# Perform basic operations\n",
    "print(\"Addition:\\n\", np_tensor + 2)\n",
    "print(\"Multiplication:\\n\", np_tensor * 2)\n",
    "\n",
    "# Reshape the tensor\n",
    "reshaped_np_tensor = np_tensor.reshape(3, 2)\n",
    "print(\"Reshaped NumPy Tensor:\\n\", reshaped_np_tensor)\n",
    "\n",
    "### Using TensorFlow for Tensor Operations\n",
    "# Create a TensorFlow tensor\n",
    "tf_tensor = tf.constant([[1, 2, 3], [4, 5, 6]], dtype=tf.float32)\n",
    "print(\"\\nTensorFlow Tensor:\\n\", tf_tensor)\n",
    "\n",
    "# Perform basic operations\n",
    "tf_add = tf_tensor + 2\n",
    "tf_multiply = tf_tensor * 2\n",
    "\n",
    "print(\"TensorFlow Addition:\\n\", tf_add)\n",
    "print(\"TensorFlow Multiplication:\\n\", tf_multiply)\n",
    "\n",
    "# Reshape the tensor\n",
    "reshaped_tf_tensor = tf.reshape(tf_tensor, [3, 2])\n",
    "print(\"Reshaped TensorFlow Tensor:\\n\", reshaped_tf_tensor)"
   ]
  },
  {
   "cell_type": "markdown",
   "metadata": {},
   "source": [
    "### 6.4 Summary\n",
    "- **Tensors** are fundamental in ML, enabling the representation of complex data structures.\n",
    "- **NumPy** provides easy manipulation of tensors for general-purpose computation.\n",
    "- **TensorFlow** leverages tensors for deep learning tasks, offering powerful GPU-accelerated operations."
   ]
  }
 ],
 "metadata": {
  "kernelspec": {
   "display_name": "base",
   "language": "python",
   "name": "python3"
  },
  "language_info": {
   "codemirror_mode": {
    "name": "ipython",
    "version": 3
   },
   "file_extension": ".py",
   "mimetype": "text/x-python",
   "name": "python",
   "nbconvert_exporter": "python",
   "pygments_lexer": "ipython3",
   "version": "3.12.7"
  }
 },
 "nbformat": 4,
 "nbformat_minor": 2
}
