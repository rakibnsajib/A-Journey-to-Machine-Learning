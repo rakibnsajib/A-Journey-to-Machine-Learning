{
 "cells": [
  {
   "cell_type": "markdown",
   "metadata": {
    "vscode": {
     "languageId": "plaintext"
    }
   },
   "source": [
    "## Chapter 4: Batch vs. Online Learning\n",
    "\n",
    "### 4.1 Explanation of Batch Learning\n",
    "   - **Definition**: Batch learning involves training a model using the entire dataset at once. The model processes all data in a batch and updates its parameters only after seeing the entire dataset.\n",
    "   - **Pros**: Suitable for stable datasets, can converge to a global optimum, and efficient when training time is not a constraint.\n",
    "   - **Cons**: Requires a large amount of memory, less adaptable to new data, and is not ideal for continuously changing environments.\n",
    "\n",
    "### 4.2 Explanation of Online Learning\n",
    "   - **Definition**: Online learning processes data one sample or in small batches at a time, updating the model with each new data point. It’s suitable for scenarios where data arrives continuously.\n",
    "   - **Pros**: More adaptable to new data, requires less memory, and is ideal for real-time applications.\n",
    "   - **Cons**: Risk of overfitting to recent data, may take longer to converge, and requires careful tuning of learning rates\n",
    "\n",
    "### 4.3 Practical Code Example"
   ]
  },
  {
   "cell_type": "code",
   "execution_count": null,
   "metadata": {
    "vscode": {
     "languageId": "plaintext"
    }
   },
   "outputs": [],
   "source": [
    "import numpy as np\n",
    "from sklearn.linear_model import SGDRegressor\n",
    "from sklearn.model_selection import train_test_split\n",
    "from sklearn.preprocessing import StandardScaler\n",
    "from sklearn.metrics import mean_squared_error\n",
    "\n",
    "# Generate a synthetic dataset\n",
    "X = np.random.rand(1000, 1)\n",
    "y = 3 * X.squeeze() + 2 + np.random.randn(1000) * 0.1\n",
    "\n",
    "# Split the data into training and testing sets\n",
    "X_train, X_test, y_train, y_test = train_test_split(X, y, test_size=0.2, random_state=42)\n",
    "\n",
    "# Standardize features for better performance\n",
    "scaler = StandardScaler()\n",
    "X_train = scaler.fit_transform(X_train)\n",
    "X_test = scaler.transform(X_test)\n",
    "\n",
    "### Batch Learning Example\n",
    "from sklearn.linear_model import LinearRegression\n",
    "\n",
    "# Train the model on the entire training set\n",
    "batch_model = LinearRegression()\n",
    "batch_model.fit(X_train, y_train)\n",
    "\n",
    "# Evaluate the model\n",
    "y_pred_batch = batch_model.predict(X_test)\n",
    "mse_batch = mean_squared_error(y_test, y_pred_batch)\n",
    "print(f\"Batch Learning MSE: {mse_batch}\")\n",
    "\n",
    "### Online Learning Example\n",
    "# Initialize the online learning model (Stochastic Gradient Descent)\n",
    "online_model = SGDRegressor(max_iter=1, learning_rate='constant', eta0=0.01, warm_start=True)\n",
    "\n",
    "# Simulate online learning by iterating over training data in small batches\n",
    "for epoch in range(100):  # Simulating multiple epochs\n",
    "    for i in range(0, len(X_train), 10):  # Update with batches of 10 samples\n",
    "        online_model.partial_fit(X_train[i:i + 10], y_train[i:i + 10])\n",
    "\n",
    "# Evaluate the online learning model\n",
    "y_pred_online = online_model.predict(X_test)\n",
    "mse_online = mean_squared_error(y_test, y_pred_online)\n",
    "print(f\"Online Learning MSE: {mse_online}\")"
   ]
  },
  {
   "cell_type": "markdown",
   "metadata": {},
   "source": [
    "### 4.4 Summary\n",
    "- **Batch Learning** is ideal for stable datasets where time is available for training and computational resources are not limited.\n",
    "- **Online Learning** is suitable for applications where data is continuously generated, and quick updates to the model are necessary.\n",
    "- The choice between batch and online learning depends on the availability of data, computational resources, and the need for model adaptability."
   ]
  },
  {
   "cell_type": "markdown",
   "metadata": {},
   "source": []
  }
 ],
 "metadata": {
  "language_info": {
   "name": "python"
  }
 },
 "nbformat": 4,
 "nbformat_minor": 2
}
